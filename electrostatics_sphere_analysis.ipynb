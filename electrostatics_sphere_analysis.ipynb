{
 "cells": [
  {
   "cell_type": "code",
   "execution_count": 1,
   "id": "fcf3a669-a41c-47b3-a473-ff22c2bc338c",
   "metadata": {},
   "outputs": [
    {
     "name": "stdout",
     "output_type": "stream",
     "text": [
      "Mass of the sphere: 1.387537e-06 kg\n",
      "Weight of the sphere: 1.361174e-05 N\n",
      "\n",
      "Line Distribution Calculations:\n",
      "Electric Field (E): 1.361174e-01 N/C\n",
      "Linear Charge Density (λ): 3.785243e-13 C/m\n",
      "\n",
      "Surface Distribution Calculations:\n",
      "Electric Field (E): 1.361174e-01 N/C\n",
      "Surface Charge Density (σ): 2.409277e-12 C/m²\n"
     ]
    }
   ],
   "source": [
    "# Constants\n",
    "import math\n",
    "\n",
    "# Sphere properties\n",
    "sphere_diameter = 1e-3  # diameter in meters\n",
    "sphere_radius = sphere_diameter / 2  # radius in meters\n",
    "density_quartz = 2650  # kg/m^3\n",
    "g = 9.81  # acceleration due to gravity in m/s^2\n",
    "\n",
    "# Calculate the mass of the sphere\n",
    "volume_sphere = (4/3) * math.pi * (sphere_radius ** 3)  # volume in m^3\n",
    "mass_sphere = density_quartz * volume_sphere  # mass in kg\n",
    "\n",
    "# Calculate the weight of the sphere\n",
    "weight_sphere = mass_sphere * g  # weight in Newtons\n",
    "\n",
    "# Display mass and weight\n",
    "print(f\"Mass of the sphere: {mass_sphere:.6e} kg\")\n",
    "print(f\"Weight of the sphere: {weight_sphere:.6e} N\")\n",
    "\n",
    "# Line Distribution Calculations\n",
    "q_sphere = 100e-6  # charge in Coulombs (100 mC)\n",
    "E_line = weight_sphere / q_sphere  # electric field to balance weight\n",
    "\n",
    "# Calculate linear charge density (λ)\n",
    "k = 8.99e9  # Coulomb's constant in N m²/C²\n",
    "r_line = 0.05  # distance from the line to the sphere in meters\n",
    "lambda_line = (E_line * r_line) / (2 * k)  # linear charge density\n",
    "\n",
    "# Display line distribution results\n",
    "print(\"\\nLine Distribution Calculations:\")\n",
    "print(f\"Electric Field (E): {E_line:.6e} N/C\")\n",
    "print(f\"Linear Charge Density (λ): {lambda_line:.6e} C/m\")\n",
    "\n",
    "# Surface Distribution Calculations\n",
    "E_surface = E_line  # same electric field needed\n",
    "\n",
    "# Calculate surface charge density (σ)\n",
    "epsilon_0 = 8.85e-12  # permittivity of free space in C²/N·m²\n",
    "sigma_surface = 2 * E_surface * epsilon_0  # surface charge density\n",
    "\n",
    "# Display surface distribution results\n",
    "print(\"\\nSurface Distribution Calculations:\")\n",
    "print(f\"Electric Field (E): {E_surface:.6e} N/C\")\n",
    "print(f\"Surface Charge Density (σ): {sigma_surface:.6e} C/m²\")\n"
   ]
  },
  {
   "cell_type": "code",
   "execution_count": 2,
   "id": "9650f7bb-1c03-42cc-aea2-a4f2df0d9ab9",
   "metadata": {},
   "outputs": [
    {
     "name": "stdout",
     "output_type": "stream",
     "text": [
      "1. Volume of the sphere: V = (4/3) * π * r³\n",
      "   V = (4/3) * π * (5.000000e-04)³ ≈ 5.235988e-10 m³\n",
      "2. Mass of the sphere: m = Density * Volume\n",
      "   m = 2650 kg/m³ * 5.235988e-10 m³ ≈ 1.387537e-06 kg\n",
      "3. Weight of the sphere: W = m * g\n",
      "   W = 1.387537e-06 kg * 9.81 m/s² ≈ 1.361174e-05 N\n",
      "\n",
      "4. Electric Field (E) for line distribution: E = W / q\n",
      "   E = 1.361174e-05 N / 1.000000e-04 C ≈ 1.361174e-01 N/C\n",
      "5. Linear Charge Density (λ): λ = (E * r) / (2 * k)\n",
      "   λ = (1.361174e-01 N/C * 0.05 m) / (2 * 8.990000e+09 N m²/C²) ≈ 3.785243e-13 C/m\n",
      "\n",
      "6. Electric Field (E) for surface distribution: E = 1.361174e-01 N/C (same as line distribution)\n",
      "7. Surface Charge Density (σ): σ = 2 * E * ε₀\n",
      "   σ = 2 * 1.361174e-01 N/C * 8.850000e-12 C²/N·m² ≈ 2.409277e-12 C/m²\n"
     ]
    }
   ],
   "source": [
    "# Constants\n",
    "import math\n",
    "\n",
    "# Sphere properties\n",
    "sphere_diameter = 1e-3  # diameter in meters\n",
    "sphere_radius = sphere_diameter / 2  # radius in meters\n",
    "density_quartz = 2650  # kg/m^3\n",
    "g = 9.81  # acceleration due to gravity in m/s^2\n",
    "\n",
    "# Calculate the mass of the sphere\n",
    "volume_sphere = (4/3) * math.pi * (sphere_radius ** 3)  # volume in m^3\n",
    "mass_sphere = density_quartz * volume_sphere  # mass in kg\n",
    "print(f\"1. Volume of the sphere: V = (4/3) * π * r³\")\n",
    "print(f\"   V = (4/3) * π * ({sphere_radius:.6e})³ ≈ {volume_sphere:.6e} m³\")\n",
    "\n",
    "# Calculate the weight of the sphere\n",
    "weight_sphere = mass_sphere * g  # weight in Newtons\n",
    "print(f\"2. Mass of the sphere: m = Density * Volume\")\n",
    "print(f\"   m = {density_quartz} kg/m³ * {volume_sphere:.6e} m³ ≈ {mass_sphere:.6e} kg\")\n",
    "print(f\"3. Weight of the sphere: W = m * g\")\n",
    "print(f\"   W = {mass_sphere:.6e} kg * {g} m/s² ≈ {weight_sphere:.6e} N\")\n",
    "\n",
    "# Line Distribution Calculations\n",
    "q_sphere = 100e-6  # charge in Coulombs (100 mC)\n",
    "E_line = weight_sphere / q_sphere  # electric field to balance weight\n",
    "print(f\"\\n4. Electric Field (E) for line distribution: E = W / q\")\n",
    "print(f\"   E = {weight_sphere:.6e} N / {q_sphere:.6e} C ≈ {E_line:.6e} N/C\")\n",
    "\n",
    "# Calculate linear charge density (λ)\n",
    "k = 8.99e9  # Coulomb's constant in N m²/C²\n",
    "r_line = 0.05  # distance from the line to the sphere in meters\n",
    "lambda_line = (E_line * r_line) / (2 * k)  # linear charge density\n",
    "print(f\"5. Linear Charge Density (λ): λ = (E * r) / (2 * k)\")\n",
    "print(f\"   λ = ({E_line:.6e} N/C * {r_line} m) / (2 * {k:.6e} N m²/C²) ≈ {lambda_line:.6e} C/m\")\n",
    "\n",
    "# Surface Distribution Calculations\n",
    "E_surface = E_line  # same electric field needed\n",
    "print(f\"\\n6. Electric Field (E) for surface distribution: E = {E_surface:.6e} N/C (same as line distribution)\")\n",
    "\n",
    "# Calculate surface charge density (σ)\n",
    "epsilon_0 = 8.85e-12  # permittivity of free space in C²/N·m²\n",
    "sigma_surface = 2 * E_surface * epsilon_0  # surface charge density\n",
    "print(f\"7. Surface Charge Density (σ): σ = 2 * E * ε₀\")\n",
    "print(f\"   σ = 2 * {E_surface:.6e} N/C * {epsilon_0:.6e} C²/N·m² ≈ {sigma_surface:.6e} C/m²\")\n"
   ]
  },
  {
   "cell_type": "code",
   "execution_count": null,
   "id": "d645ee79-f468-453a-8a14-ed03c44a5faa",
   "metadata": {},
   "outputs": [],
   "source": []
  }
 ],
 "metadata": {
  "kernelspec": {
   "display_name": "Python 3 (ipykernel)",
   "language": "python",
   "name": "python3"
  },
  "language_info": {
   "codemirror_mode": {
    "name": "ipython",
    "version": 3
   },
   "file_extension": ".py",
   "mimetype": "text/x-python",
   "name": "python",
   "nbconvert_exporter": "python",
   "pygments_lexer": "ipython3",
   "version": "3.12.9"
  }
 },
 "nbformat": 4,
 "nbformat_minor": 5
}
