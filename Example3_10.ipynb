{
 "cells": [
  {
   "cell_type": "code",
   "execution_count": 4,
   "id": "ce519986-7eb1-4c24-b5c2-a724b3aac4b2",
   "metadata": {},
   "outputs": [
    {
     "name": "stdout",
     "output_type": "stream",
     "text": [
      "   n (Replicates)  Phi^2       Phi  Error Degrees of Freedom   Beta  \\\n",
      "0               3    7.5  2.738613                         8   0.25   \n",
      "1               4   10.0  3.162278                        12   0.04   \n",
      "2               5   12.5  3.535534                        16  <0.01   \n",
      "\n",
      "  Power (1 - Beta)  \n",
      "0             0.75  \n",
      "1             0.96  \n",
      "2            >0.99  \n"
     ]
    }
   ],
   "source": [
    "import numpy as np\n",
    "import pandas as pd\n",
    "\n",
    "# Example 3.10\n",
    "alpha = 0.01\n",
    "sigma = 25  # standard deviation in Å/min\n",
    "sum_squared_tao = 6250  # sum of squared tao values\n",
    "\n",
    "# Number of replicates to test\n",
    "replicates = [3, 4, 5]\n",
    "\n",
    "# Store results\n",
    "phi_squared_values = []\n",
    "phi_values = []\n",
    "error_degrees_of_freedom = []\n",
    "beta_values = []\n",
    "power_values = []\n",
    "\n",
    "# beta and power values as per the example\n",
    "manual_beta_power = {\n",
    "    3: (0.25, 0.75),\n",
    "    4: (0.04, 0.96),\n",
    "    5: (0.01, 0.99)  # 0.01 instead of \"<0.01\" for computation\n",
    "}\n",
    "\n",
    "# Calculate replicate\n",
    "for n in replicates:\n",
    "    # phi^2 and phi\n",
    "    phi_squared = (n * sum_squared_tao) / (4 * sigma**2)\n",
    "    phi = np.sqrt(phi_squared)\n",
    "\n",
    "    # Error degrees of freedom\n",
    "    error_df = 4 * (n - 1)\n",
    "\n",
    "    # beta and power from manual values\n",
    "    beta, power = manual_beta_power[n]\n",
    "\n",
    "    # Append results\n",
    "    phi_squared_values.append(phi_squared)\n",
    "    phi_values.append(phi)\n",
    "    error_degrees_of_freedom.append(error_df)\n",
    "    beta_values.append(beta)\n",
    "    power_values.append(power)\n",
    "\n",
    "# DataFrame with results\n",
    "results = pd.DataFrame({\n",
    "    'n (Replicates)': replicates,\n",
    "    'Phi^2': phi_squared_values,\n",
    "    'Phi': phi_values,\n",
    "    'Error Degrees of Freedom': error_degrees_of_freedom,\n",
    "    'Beta': beta_values,\n",
    "    'Power (1 - Beta)': power_values\n",
    "})\n",
    "\n",
    "# beta and power display\n",
    "results['Beta'] = results['Beta'].apply(lambda x: f\"{x:.2f}\" if x != 0.01 else \"<0.01\")\n",
    "results['Power (1 - Beta)'] = results['Power (1 - Beta)'].apply(lambda x: f\"{x:.2f}\" if x != 0.99 else \">0.99\")\n",
    "\n",
    "# results table\n",
    "print(results)\n",
    "\n"
   ]
  },
  {
   "cell_type": "code",
   "execution_count": null,
   "id": "dbb13799-bc2d-4ed2-86e3-3eb8ab79748c",
   "metadata": {},
   "outputs": [],
   "source": []
  }
 ],
 "metadata": {
  "kernelspec": {
   "display_name": "Python 3 (ipykernel)",
   "language": "python",
   "name": "python3"
  },
  "language_info": {
   "codemirror_mode": {
    "name": "ipython",
    "version": 3
   },
   "file_extension": ".py",
   "mimetype": "text/x-python",
   "name": "python",
   "nbconvert_exporter": "python",
   "pygments_lexer": "ipython3",
   "version": "3.12.7"
  }
 },
 "nbformat": 4,
 "nbformat_minor": 5
}
